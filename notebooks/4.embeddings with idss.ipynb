{
 "cells": [
  {
   "cell_type": "code",
   "execution_count": 2,
   "id": "6226e7b1-f337-4599-b9a1-7f109bb3d41c",
   "metadata": {},
   "outputs": [],
   "source": [
    "import numpy as np\n",
    "from sentence_transformers import SentenceTransformer"
   ]
  },
  {
   "cell_type": "code",
   "execution_count": 3,
   "id": "1b4b2439-ec13-4109-b460-9b2f9222d430",
   "metadata": {},
   "outputs": [],
   "source": [
    "model = SentenceTransformer(\"all-MiniLM-L6-v2\")"
   ]
  },
  {
   "cell_type": "code",
   "execution_count": 4,
   "id": "127308b4-d6a0-4b5b-8ce7-a2b5a2dad4d7",
   "metadata": {},
   "outputs": [],
   "source": [
    "data=[1,2,3,4,5,6,7]\n",
    "query=5"
   ]
  },
  {
   "cell_type": "code",
   "execution_count": 5,
   "id": "d4896625-77c7-4ec6-b9a0-e97bf6e8aa98",
   "metadata": {},
   "outputs": [
    {
     "data": {
      "text/plain": [
       "4"
      ]
     },
     "execution_count": 5,
     "metadata": {},
     "output_type": "execute_result"
    }
   ],
   "source": [
    "data.index(query)"
   ]
  },
  {
   "cell_type": "code",
   "execution_count": 6,
   "id": "31d2163a-34ba-4cb3-952f-0af485864bad",
   "metadata": {},
   "outputs": [],
   "source": [
    "doc=[\"The dog jumped over the cat\",\n",
    "     'The cat jumped over the dog',\n",
    "     'The weather is very hot',\n",
    "    'the cat is yellow and dog is red']"
   ]
  },
  {
   "cell_type": "code",
   "execution_count": 9,
   "id": "25d08dd2-539c-4419-ac8b-2b8941bcb490",
   "metadata": {},
   "outputs": [
    {
     "data": {
      "text/plain": [
       "[{'id': 0, 'text': 'The dog jumped over the cat'},\n",
       " {'id': 1, 'text': 'The cat jumped over the dog'},\n",
       " {'id': 2, 'text': 'The weather is very hot'},\n",
       " {'id': 3, 'text': 'the cat is yellow and dog is red'}]"
      ]
     },
     "execution_count": 9,
     "metadata": {},
     "output_type": "execute_result"
    }
   ],
   "source": [
    "documents=[]\n",
    "for i,x in enumerate(doc):\n",
    "    row={\"id\":i, \"text\":x}\n",
    "    documents.append(row)\n",
    "documents"
   ]
  },
  {
   "cell_type": "code",
   "execution_count": 31,
   "id": "7ad16fd7-8384-4a9e-9e7f-05ac2341e3f2",
   "metadata": {},
   "outputs": [],
   "source": [
    "datasets=[{'id': 1, 'text': 'The dog jumped over the cat'},\n",
    " {'id': 2, 'text': 'The cat jumped over the dog'},\n",
    " {'id': 3, 'text': 'The weather is very hot'},\n",
    " {'id': 4, 'text': 'the cat is yellow and dog is red'},\n",
    " {'id': 5, 'text': 'the dog jumped over the purple cow'}]"
   ]
  },
  {
   "cell_type": "code",
   "execution_count": 32,
   "id": "e2a3514d-a1ee-4ae9-8d01-677cf2b2ea90",
   "metadata": {},
   "outputs": [],
   "source": [
    "document_embeddings=[]\n",
    "for x in datasets:\n",
    "    embed=model.encode(x.get(\"text\"))\n",
    "    final_data=(x.get(\"id\"),embed)\n",
    "    document_embeddings.append(final_data)\n",
    "#document_embeddings[0][1]                         "
   ]
  },
  {
   "cell_type": "code",
   "execution_count": 33,
   "id": "85b4a3f9-89ca-42e9-9c4b-f010ed3b9b06",
   "metadata": {},
   "outputs": [],
   "source": [
    "query='it was cold yesterday'\n",
    "query_embedding=model.encode(query)"
   ]
  },
  {
   "cell_type": "code",
   "execution_count": 34,
   "id": "e24f4eda-fd36-43c5-a977-8e9d6e1de766",
   "metadata": {},
   "outputs": [
    {
     "data": {
      "text/plain": [
       "[(1, tensor([[0.0546]])),\n",
       " (2, tensor([[0.0542]])),\n",
       " (3, tensor([[0.5836]])),\n",
       " (4, tensor([[0.0742]])),\n",
       " (5, tensor([[0.0601]]))]"
      ]
     },
     "execution_count": 34,
     "metadata": {},
     "output_type": "execute_result"
    }
   ],
   "source": [
    "results=[]\n",
    "for doc in document_embeddings:\n",
    "    doc_id=doc[0]\n",
    "    doc_embedding=doc[1]\n",
    "    rank=model.similarity(doc_embedding,query_embedding)\n",
    "    results.append((doc_id,rank))   \n",
    "results    "
   ]
  },
  {
   "cell_type": "code",
   "execution_count": 35,
   "id": "79519d4a-8fe8-4abf-a2e8-199ca1e804e0",
   "metadata": {},
   "outputs": [],
   "source": [
    "results.sort(key=lambda x: x[1], reverse=True)"
   ]
  },
  {
   "cell_type": "code",
   "execution_count": 36,
   "id": "d709b1e4-ea5e-462f-82a5-f914e4cc2969",
   "metadata": {},
   "outputs": [
    {
     "data": {
      "text/plain": [
       "[(3, tensor([[0.5836]])),\n",
       " (4, tensor([[0.0742]])),\n",
       " (5, tensor([[0.0601]])),\n",
       " (1, tensor([[0.0546]])),\n",
       " (2, tensor([[0.0542]]))]"
      ]
     },
     "execution_count": 36,
     "metadata": {},
     "output_type": "execute_result"
    }
   ],
   "source": [
    "results"
   ]
  },
  {
   "cell_type": "code",
   "execution_count": 37,
   "id": "309eb830-9749-41d9-9303-b84417a4f0a5",
   "metadata": {},
   "outputs": [
    {
     "name": "stdout",
     "output_type": "stream",
     "text": [
      "3 tensor([[0.5836]]) {'id': 3, 'text': 'The weather is very hot'}\n",
      "4 tensor([[0.0742]]) {'id': 4, 'text': 'the cat is yellow and dog is red'}\n",
      "5 tensor([[0.0601]]) {'id': 5, 'text': 'the dog jumped over the purple cow'}\n",
      "1 tensor([[0.0546]]) {'id': 1, 'text': 'The dog jumped over the cat'}\n",
      "2 tensor([[0.0542]]) {'id': 2, 'text': 'The cat jumped over the dog'}\n"
     ]
    }
   ],
   "source": [
    "for result in results:\n",
    "    dataset_id=result[0]\n",
    "    rank=result[1]\n",
    "    doc=next(doc for doc in datasets if doc[\"id\"]==dataset_id)\n",
    "    print (dataset_id,rank,doc)"
   ]
  },
  {
   "cell_type": "code",
   "execution_count": null,
   "id": "4b11dabd-cd82-4659-bdd3-e96d33900a0e",
   "metadata": {},
   "outputs": [],
   "source": []
  },
  {
   "cell_type": "code",
   "execution_count": null,
   "id": "79017213-f7bd-49c4-b6bb-2cd0b874a746",
   "metadata": {},
   "outputs": [],
   "source": []
  },
  {
   "cell_type": "code",
   "execution_count": null,
   "id": "4b06d861-9d9e-49eb-89bc-0170d881be0c",
   "metadata": {},
   "outputs": [],
   "source": []
  },
  {
   "cell_type": "code",
   "execution_count": null,
   "id": "70ac3d15-5f6e-46f4-9121-4a6ab3a515a5",
   "metadata": {},
   "outputs": [],
   "source": []
  },
  {
   "cell_type": "code",
   "execution_count": 21,
   "id": "abccd5fe-d584-49a7-846a-e90158d834c2",
   "metadata": {},
   "outputs": [],
   "source": [
    "embedding=model.encode(doc)"
   ]
  },
  {
   "cell_type": "code",
   "execution_count": 22,
   "id": "2490815d-f0f4-4b75-a257-93510638ef0e",
   "metadata": {},
   "outputs": [
    {
     "data": {
      "text/plain": [
       "(4, 384)"
      ]
     },
     "execution_count": 22,
     "metadata": {},
     "output_type": "execute_result"
    }
   ],
   "source": [
    "embedding.shape"
   ]
  },
  {
   "cell_type": "code",
   "execution_count": 23,
   "id": "30e51e2e-88dd-44a9-9602-85a9d6f3048d",
   "metadata": {},
   "outputs": [
    {
     "data": {
      "text/plain": [
       "np.float32(0.054474264)"
      ]
     },
     "execution_count": 23,
     "metadata": {},
     "output_type": "execute_result"
    }
   ],
   "source": [
    "embedding[0][0]"
   ]
  },
  {
   "cell_type": "code",
   "execution_count": 24,
   "id": "ea2a987f-d73a-42a1-94e3-b6437c72cfb3",
   "metadata": {},
   "outputs": [],
   "source": [
    "query='the cat is yellow and dog is purple'"
   ]
  },
  {
   "cell_type": "code",
   "execution_count": 25,
   "id": "7b40bc4a-585a-414c-b2b9-0bf8d8d5ea16",
   "metadata": {},
   "outputs": [
    {
     "data": {
      "text/plain": [
       "tensor([[0.5075],\n",
       "        [0.5133],\n",
       "        [0.0344],\n",
       "        [0.9096]])"
      ]
     },
     "execution_count": 25,
     "metadata": {},
     "output_type": "execute_result"
    }
   ],
   "source": [
    "model.similarity(embedding,model.encode(query))"
   ]
  },
  {
   "cell_type": "code",
   "execution_count": null,
   "id": "3cfa119b-217c-4adf-90ef-ce2b4b229fbb",
   "metadata": {},
   "outputs": [],
   "source": []
  }
 ],
 "metadata": {
  "kernelspec": {
   "display_name": "Python 3 (ipykernel)",
   "language": "python",
   "name": "python3"
  },
  "language_info": {
   "codemirror_mode": {
    "name": "ipython",
    "version": 3
   },
   "file_extension": ".py",
   "mimetype": "text/x-python",
   "name": "python",
   "nbconvert_exporter": "python",
   "pygments_lexer": "ipython3",
   "version": "3.12.6"
  }
 },
 "nbformat": 4,
 "nbformat_minor": 5
}
