{
 "cells": [
  {
   "cell_type": "code",
   "execution_count": 1,
   "id": "0f3d4874-1086-4ed4-b277-61604db8d3f5",
   "metadata": {},
   "outputs": [],
   "source": [
    "import setup\n",
    "setup.init_django()"
   ]
  },
  {
   "cell_type": "code",
   "execution_count": 3,
   "id": "fc129716-ba06-44d6-88ca-038daf97335b",
   "metadata": {},
   "outputs": [],
   "source": [
    "from decouple import config\n",
    "from blog.models import BlogPost, EMBEDDING_LENGTH\n",
    "from blog import services"
   ]
  },
  {
   "cell_type": "code",
   "execution_count": 4,
   "id": "648d8236-3450-48ca-8f61-4bfb407b76a7",
   "metadata": {},
   "outputs": [
    {
     "data": {
      "text/plain": [
       "<QuerySet [<BlogPost: BlogPost object (77)>, <BlogPost: BlogPost object (78)>, <BlogPost: BlogPost object (79)>, <BlogPost: BlogPost object (80)>]>"
      ]
     },
     "execution_count": 4,
     "metadata": {},
     "output_type": "execute_result"
    }
   ],
   "source": [
    "qs=BlogPost.objects.filter(can_delete=True)\n",
    "qs"
   ]
  },
  {
   "cell_type": "markdown",
   "id": "bdaa1703-29e7-423b-ac14-6cb5abcdea61",
   "metadata": {},
   "source": [
    "#!pip install llama-index sqlalchemy llama-index-vector-stores-postgres"
   ]
  },
  {
   "cell_type": "code",
   "execution_count": null,
   "id": "4cd89321-df18-4b70-83d4-69f5e406556e",
   "metadata": {},
   "outputs": [],
   "source": []
  }
 ],
 "metadata": {
  "kernelspec": {
   "display_name": "Python 3 (ipykernel)",
   "language": "python",
   "name": "python3"
  },
  "language_info": {
   "codemirror_mode": {
    "name": "ipython",
    "version": 3
   },
   "file_extension": ".py",
   "mimetype": "text/x-python",
   "name": "python",
   "nbconvert_exporter": "python",
   "pygments_lexer": "ipython3",
   "version": "3.12.6"
  }
 },
 "nbformat": 4,
 "nbformat_minor": 5
}
