{
 "cells": [
  {
   "cell_type": "code",
   "execution_count": 1,
   "id": "0f3d4874-1086-4ed4-b277-61604db8d3f5",
   "metadata": {},
   "outputs": [],
   "source": [
    "import setup\n",
    "setup.init_django()"
   ]
  },
  {
   "cell_type": "code",
   "execution_count": 3,
   "id": "fc129716-ba06-44d6-88ca-038daf97335b",
   "metadata": {},
   "outputs": [],
   "source": [
    "from decouple import config\n",
    "from blog.models import BlogPost, EMBEDDING_LENGTH\n",
    "from blog import services"
   ]
  },
  {
   "cell_type": "code",
   "execution_count": 4,
   "id": "648d8236-3450-48ca-8f61-4bfb407b76a7",
   "metadata": {},
   "outputs": [
    {
     "data": {
      "text/plain": [
       "<QuerySet [<BlogPost: BlogPost object (77)>, <BlogPost: BlogPost object (78)>, <BlogPost: BlogPost object (79)>, <BlogPost: BlogPost object (80)>]>"
      ]
     },
     "execution_count": 4,
     "metadata": {},
     "output_type": "execute_result"
    }
   ],
   "source": [
    "qs=BlogPost.objects.filter(can_delete=True)\n",
    "qs"
   ]
  },
  {
   "cell_type": "markdown",
   "id": "bdaa1703-29e7-423b-ac14-6cb5abcdea61",
   "metadata": {},
   "source": [
    "#!pip install llama-index sqlalchemy llama-index-vector-stores-postgres"
   ]
  },
  {
   "cell_type": "code",
   "execution_count": null,
   "id": "32cebdb3-0575-475d-8e73-0058d90fa776",
   "metadata": {},
   "outputs": [],
   "source": [
    "from llama_index.llms.openai import OpenAI\n",
    "from llama_index.embeddings.openai import OpenAIEmbedding"
   ]
  },
  {
   "cell_type": "code",
   "execution_count": null,
   "id": "4cd89321-df18-4b70-83d4-69f5e406556e",
   "metadata": {},
   "outputs": [],
   "source": [
    "LLM_MODEL = config(\"LLM_MODEL\", default=\"gpt-4o\") # not in use use\n",
    "EMEDDING_LENGTH = config(\"EMEDDING_LENGTH\", default=1536, cast=int)\n",
    "EMEDDING_MODEL =config(\"EMEDDING_MODEL\", default=\"text-embedding-3-small\")\n",
    "OPENAI_API_KEY = config(\"OPENAI_API_KEY\")\n",
    "\n",
    "llm = OpenAI(model=LLM_MODEL, api_key=OPENAI_API_KEY)\n",
    "embed_model = OpenAIEmbedding(model=EMEDDING_MODEL, api_key=OPENAI_API_KEY)"
   ]
  },
  {
   "cell_type": "code",
   "execution_count": null,
   "id": "a94f8e00-6947-4099-8ca0-a16f722b5f30",
   "metadata": {},
   "outputs": [],
   "source": [
    "from llama_index.core import Settings\n",
    "\n",
    "Settings.llm = llm\n",
    "Settings.embed_model = embed_model"
   ]
  }
 ],
 "metadata": {
  "kernelspec": {
   "display_name": "Python 3 (ipykernel)",
   "language": "python",
   "name": "python3"
  },
  "language_info": {
   "codemirror_mode": {
    "name": "ipython",
    "version": 3
   },
   "file_extension": ".py",
   "mimetype": "text/x-python",
   "name": "python",
   "nbconvert_exporter": "python",
   "pygments_lexer": "ipython3",
   "version": "3.12.6"
  }
 },
 "nbformat": 4,
 "nbformat_minor": 5
}
