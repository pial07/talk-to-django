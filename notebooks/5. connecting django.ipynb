{
 "cells": [
  {
   "cell_type": "code",
   "execution_count": 16,
   "id": "5ef08756-a3c7-44a0-bfed-81da4f860115",
   "metadata": {},
   "outputs": [],
   "source": [
    "import setup\n",
    "\n",
    "setup.init_django()"
   ]
  },
  {
   "cell_type": "code",
   "execution_count": 17,
   "id": "582c23f1-1094-402f-b2c7-ff4a42322598",
   "metadata": {},
   "outputs": [],
   "source": [
    "from blog.models import BlogPost"
   ]
  },
  {
   "cell_type": "code",
   "execution_count": 18,
   "id": "1fbb5309-332e-4b46-9c69-0cc7ba16a71c",
   "metadata": {},
   "outputs": [],
   "source": [
    "qs=BlogPost.objects.all()"
   ]
  },
  {
   "cell_type": "code",
   "execution_count": 19,
   "id": "bf078bbe-6ae3-4a6d-bdc2-d5c36efd6edf",
   "metadata": {},
   "outputs": [
    {
     "data": {
      "text/plain": [
       "<QuerySet []>"
      ]
     },
     "execution_count": 19,
     "metadata": {},
     "output_type": "execute_result"
    }
   ],
   "source": [
    "qs"
   ]
  },
  {
   "cell_type": "code",
   "execution_count": null,
   "id": "f98c7204-dc47-4de4-9cdd-d3d7c90ae379",
   "metadata": {},
   "outputs": [],
   "source": []
  }
 ],
 "metadata": {
  "kernelspec": {
   "display_name": "Python 3 (ipykernel)",
   "language": "python",
   "name": "python3"
  },
  "language_info": {
   "codemirror_mode": {
    "name": "ipython",
    "version": 3
   },
   "file_extension": ".py",
   "mimetype": "text/x-python",
   "name": "python",
   "nbconvert_exporter": "python",
   "pygments_lexer": "ipython3",
   "version": "3.12.6"
  }
 },
 "nbformat": 4,
 "nbformat_minor": 5
}
