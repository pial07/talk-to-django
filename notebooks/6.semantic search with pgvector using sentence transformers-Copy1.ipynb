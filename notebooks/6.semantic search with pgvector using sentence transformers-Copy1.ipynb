{
 "cells": [
  {
   "cell_type": "code",
   "execution_count": 1,
   "id": "6226e7b1-f337-4599-b9a1-7f109bb3d41c",
   "metadata": {},
   "outputs": [],
   "source": [
    "import setup\n",
    "setup.init_django()"
   ]
  },
  {
   "cell_type": "code",
   "execution_count": 2,
   "id": "127308b4-d6a0-4b5b-8ce7-a2b5a2dad4d7",
   "metadata": {},
   "outputs": [],
   "source": [
    "from blog.models import BlogPost\n",
    "from sentence_transformers import SentenceTransformer"
   ]
  },
  {
   "cell_type": "code",
   "execution_count": 3,
   "id": "d4896625-77c7-4ec6-b9a0-e97bf6e8aa98",
   "metadata": {},
   "outputs": [],
   "source": [
    "from openai import OpenAI\n",
    "from decouple import config\n",
    "EMBEDDING_MODEL= SentenceTransformer(\"all-MiniLM-L6-v2\")\n",
    "RECREATE_DATA=True"
   ]
  },
  {
   "cell_type": "code",
   "execution_count": 4,
   "id": "31d2163a-34ba-4cb3-952f-0af485864bad",
   "metadata": {},
   "outputs": [],
   "source": [
    "docs=[\"The dog jumped over the cat\",\n",
    "     'The cat jumped over the dog',\n",
    "     'The weather is very hot',\n",
    "    'the cat is yellow and dog is red']"
   ]
  },
  {
   "cell_type": "code",
   "execution_count": 5,
   "id": "83ffb0c9-b6ce-4986-a887-c0cb3edf68af",
   "metadata": {},
   "outputs": [],
   "source": [
    "new_data=[]\n",
    "for i,x in enumerate(docs):\n",
    "    new_data.append(BlogPost(title=f\"Blog Post {i+1}\", content=x, can_delete=True))\n",
    "if RECREATE_DATA:    \n",
    "    qs=BlogPost.objects.filter(can_delete=True) \n",
    "    qs.delete()\n",
    "    qs=BlogPost.objects.bulk_create(new_data)"
   ]
  },
  {
   "cell_type": "code",
   "execution_count": 6,
   "id": "fbd73f5e-8e6f-42f4-a35b-b37c21100d20",
   "metadata": {},
   "outputs": [
    {
     "data": {
      "text/plain": [
       "4"
      ]
     },
     "execution_count": 6,
     "metadata": {},
     "output_type": "execute_result"
    }
   ],
   "source": [
    "qs=BlogPost.objects.filter(can_delete=True)\n",
    "qs.count()"
   ]
  },
  {
   "cell_type": "code",
   "execution_count": 7,
   "id": "7e8949d9-d2a7-493d-92d9-83665ae6d16b",
   "metadata": {},
   "outputs": [],
   "source": [
    "def get_embedding(text,model=EMBEDDING_MODEL):\n",
    "    text=text.replace(\"\\n\",\"\").strip()\n",
    "    return model.encode(text)"
   ]
  },
  {
   "cell_type": "code",
   "execution_count": 8,
   "id": "ecab3cf6-3bd5-460c-95ba-9f2e89fab4ec",
   "metadata": {},
   "outputs": [
    {
     "data": {
      "text/plain": [
       "SentenceTransformer(\n",
       "  (0): Transformer({'max_seq_length': 256, 'do_lower_case': False}) with Transformer model: BertModel \n",
       "  (1): Pooling({'word_embedding_dimension': 384, 'pooling_mode_cls_token': False, 'pooling_mode_mean_tokens': True, 'pooling_mode_max_tokens': False, 'pooling_mode_mean_sqrt_len_tokens': False, 'pooling_mode_weightedmean_tokens': False, 'pooling_mode_lasttoken': False, 'include_prompt': True})\n",
       "  (2): Normalize()\n",
       ")"
      ]
     },
     "execution_count": 8,
     "metadata": {},
     "output_type": "execute_result"
    }
   ],
   "source": [
    "EMBEDDING_MODEL"
   ]
  },
  {
   "cell_type": "code",
   "execution_count": 9,
   "id": "80695539-6444-4cad-8945-dbf1a5f68c28",
   "metadata": {},
   "outputs": [],
   "source": [
    "for obj in qs:\n",
    "    if obj.embedding is None:\n",
    "        obj.embedding=get_embedding(obj.get_embedding_text_raw())\n",
    "        obj.save()\n",
    "    "
   ]
  },
  {
   "cell_type": "code",
   "execution_count": 17,
   "id": "2e1a8cc2-9c39-497b-b38a-43b88907de7c",
   "metadata": {},
   "outputs": [],
   "source": [
    "query=\"The dog jumped over the green cow\"\n",
    "# query=\"The dog jumped over the cat\"\n",
    "query_embedding=get_embedding(query)"
   ]
  },
  {
   "cell_type": "code",
   "execution_count": 18,
   "id": "f0587dfe-c75a-4622-adc9-db1bf736218b",
   "metadata": {},
   "outputs": [
    {
     "name": "stdout",
     "output_type": "stream",
     "text": [
      "Blog Post 1 0.4009067355775705 59.90932644224295\n",
      "Blog Post 2 0.4123959366201141 58.76040633798859\n"
     ]
    }
   ],
   "source": [
    "from pgvector.django import CosineDistance\n",
    "from django.db.models import F\n",
    "qs=BlogPost.objects.annotate(distance=CosineDistance('embedding',query_embedding),\n",
    "                             similarity=1-F(\"distance\")).order_by(\"distance\")[:2]\n",
    "for obj in qs:\n",
    "    print(obj.title, obj.distance, obj.similarity*100)"
   ]
  },
  {
   "cell_type": "code",
   "execution_count": null,
   "id": "f86acd60-ddf9-4d85-9874-a4e573b76f3b",
   "metadata": {},
   "outputs": [],
   "source": []
  }
 ],
 "metadata": {
  "kernelspec": {
   "display_name": "Python 3 (ipykernel)",
   "language": "python",
   "name": "python3"
  },
  "language_info": {
   "codemirror_mode": {
    "name": "ipython",
    "version": 3
   },
   "file_extension": ".py",
   "mimetype": "text/x-python",
   "name": "python",
   "nbconvert_exporter": "python",
   "pygments_lexer": "ipython3",
   "version": "3.12.6"
  }
 },
 "nbformat": 4,
 "nbformat_minor": 5
}
