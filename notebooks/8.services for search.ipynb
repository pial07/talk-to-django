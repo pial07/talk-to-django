{
 "cells": [
  {
   "cell_type": "code",
   "execution_count": 1,
   "id": "6226e7b1-f337-4599-b9a1-7f109bb3d41c",
   "metadata": {},
   "outputs": [],
   "source": [
    "import setup\n",
    "setup.init_django()"
   ]
  },
  {
   "cell_type": "code",
   "execution_count": 2,
   "id": "127308b4-d6a0-4b5b-8ce7-a2b5a2dad4d7",
   "metadata": {},
   "outputs": [],
   "source": [
    "from blog import services"
   ]
  },
  {
   "cell_type": "code",
   "execution_count": 3,
   "id": "da0e63cc-c273-4ea1-aa2a-73980c870457",
   "metadata": {},
   "outputs": [],
   "source": [
    "results= services.search_posts(\"This is amazing\")"
   ]
  },
  {
   "cell_type": "code",
   "execution_count": 4,
   "id": "dcacbdb0-c0f4-4941-8273-6450892e91d3",
   "metadata": {},
   "outputs": [
    {
     "data": {
      "text/plain": [
       "<QuerySet [<BlogPost: BlogPost object (81)>, <BlogPost: BlogPost object (80)>, <BlogPost: BlogPost object (79)>, <BlogPost: BlogPost object (78)>, <BlogPost: BlogPost object (77)>]>"
      ]
     },
     "execution_count": 4,
     "metadata": {},
     "output_type": "execute_result"
    }
   ],
   "source": [
    "results"
   ]
  },
  {
   "cell_type": "code",
   "execution_count": 6,
   "id": "1be4068d-9ce1-4c97-b970-91d588ef9c8a",
   "metadata": {},
   "outputs": [
    {
     "data": {
      "text/plain": [
       "0.09858758747577667"
      ]
     },
     "execution_count": 6,
     "metadata": {},
     "output_type": "execute_result"
    }
   ],
   "source": [
    "results.first().similarity"
   ]
  },
  {
   "cell_type": "code",
   "execution_count": null,
   "id": "400636b6-d780-484e-97ec-af08efb79777",
   "metadata": {},
   "outputs": [],
   "source": []
  }
 ],
 "metadata": {
  "kernelspec": {
   "display_name": "Python 3 (ipykernel)",
   "language": "python",
   "name": "python3"
  },
  "language_info": {
   "codemirror_mode": {
    "name": "ipython",
    "version": 3
   },
   "file_extension": ".py",
   "mimetype": "text/x-python",
   "name": "python",
   "nbconvert_exporter": "python",
   "pygments_lexer": "ipython3",
   "version": "3.12.6"
  }
 },
 "nbformat": 4,
 "nbformat_minor": 5
}
