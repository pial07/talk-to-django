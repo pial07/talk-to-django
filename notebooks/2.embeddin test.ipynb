{
 "cells": [
  {
   "cell_type": "code",
   "execution_count": 4,
   "id": "6226e7b1-f337-4599-b9a1-7f109bb3d41c",
   "metadata": {},
   "outputs": [],
   "source": [
    "import numpy as np\n",
    "from sentence_transformers import SentenceTransformer"
   ]
  },
  {
   "cell_type": "code",
   "execution_count": 5,
   "id": "1b4b2439-ec13-4109-b460-9b2f9222d430",
   "metadata": {},
   "outputs": [],
   "source": [
    "model = SentenceTransformer(\"all-MiniLM-L6-v2\")"
   ]
  },
  {
   "cell_type": "code",
   "execution_count": 6,
   "id": "919ae603-ff8d-43a6-9104-d4cbd68adb81",
   "metadata": {},
   "outputs": [],
   "source": [
    "doc1=[\"The dog jumped over the cat\"]\n",
    "doc2=['The cat jumped over the dog']\n",
    "doc3=['The weather is very hot']"
   ]
  },
  {
   "cell_type": "code",
   "execution_count": 8,
   "id": "d5c0f810-1ec1-4e02-8529-5df0b87c586d",
   "metadata": {},
   "outputs": [
    {
     "data": {
      "text/plain": [
       "['The', 'weather', 'is', 'very', 'hot']"
      ]
     },
     "execution_count": 8,
     "metadata": {},
     "output_type": "execute_result"
    }
   ],
   "source": [
    "d1=doc1[0].split(\" \")\n",
    "d2=doc2[0].split(\" \")\n",
    "d3=doc3[0].split(\" \")"
   ]
  },
  {
   "cell_type": "code",
   "execution_count": 12,
   "id": "310fe7f6-3784-42b2-9e3f-9fcf8ccd9d07",
   "metadata": {},
   "outputs": [],
   "source": [
    "embedding1=model.encode(doc1)\n",
    "embedding2=model.encode(doc2)\n",
    "embedding3=model.encode(doc3)"
   ]
  },
  {
   "cell_type": "code",
   "execution_count": 13,
   "id": "0143d283-4d5d-482f-9dff-0ec07cd1bff7",
   "metadata": {},
   "outputs": [
    {
     "data": {
      "text/plain": [
       "tensor([[0.9895]])"
      ]
     },
     "execution_count": 13,
     "metadata": {},
     "output_type": "execute_result"
    }
   ],
   "source": [
    "model.similarity(embedding1,embedding2)"
   ]
  },
  {
   "cell_type": "code",
   "execution_count": 14,
   "id": "1bdff8e7-0f77-4a27-8f72-114983c9df96",
   "metadata": {},
   "outputs": [
    {
     "data": {
      "text/plain": [
       "tensor([[-0.0954]])"
      ]
     },
     "execution_count": 14,
     "metadata": {},
     "output_type": "execute_result"
    }
   ],
   "source": [
    "model.similarity(embedding1,embedding3)"
   ]
  },
  {
   "cell_type": "code",
   "execution_count": null,
   "id": "9c1699a5-0de8-4684-a04e-5d4a4af1f6bf",
   "metadata": {},
   "outputs": [],
   "source": []
  }
 ],
 "metadata": {
  "kernelspec": {
   "display_name": "Python 3 (ipykernel)",
   "language": "python",
   "name": "python3"
  },
  "language_info": {
   "codemirror_mode": {
    "name": "ipython",
    "version": 3
   },
   "file_extension": ".py",
   "mimetype": "text/x-python",
   "name": "python",
   "nbconvert_exporter": "python",
   "pygments_lexer": "ipython3",
   "version": "3.12.6"
  }
 },
 "nbformat": 4,
 "nbformat_minor": 5
}
