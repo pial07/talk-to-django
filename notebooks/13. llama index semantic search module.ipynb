{
 "cells": [
  {
   "cell_type": "code",
   "execution_count": 1,
   "id": "266b0de0-cced-4f02-acf7-4fcb95b9df09",
   "metadata": {},
   "outputs": [],
   "source": [
    "import setup\n",
    "\n",
    "setup.init_django()"
   ]
  },
  {
   "cell_type": "code",
   "execution_count": 2,
   "id": "0e59e50d-ed72-45f4-a58d-736f1d0be065",
   "metadata": {},
   "outputs": [
    {
     "name": "stdout",
     "output_type": "stream",
     "text": [
      "Syncing 4 docs\n",
      "Sync done.\n"
     ]
    }
   ],
   "source": [
    "from rag import engines, sync\n",
    "\n",
    "sync.sync_blog_docs()"
   ]
  },
  {
   "cell_type": "code",
   "execution_count": 3,
   "id": "9a8ee59b-9380-4a30-9feb-b476bb4092d1",
   "metadata": {},
   "outputs": [],
   "source": [
    "query_engine = engines.get_semantic_query_engine()"
   ]
  },
  {
   "cell_type": "code",
   "execution_count": 4,
   "id": "477f100e-72b2-4464-b4e3-ebc8255a8d9b",
   "metadata": {},
   "outputs": [
    {
     "name": "stdout",
     "output_type": "stream",
     "text": [
      "Hello! How can I assist you today?\n"
     ]
    }
   ],
   "source": [
    "response = query_engine.query(\"hi there\")\n",
    "print(response.response)"
   ]
  },
  {
   "cell_type": "code",
   "execution_count": 5,
   "id": "8e989099-8c7f-4a72-9221-516f72107c8a",
   "metadata": {},
   "outputs": [
    {
     "name": "stdout",
     "output_type": "stream",
     "text": [
      "Score 0.6115077187263093\n",
      "Contents The cat jumped over the dog\n",
      "Metadata {'pk': 6, 'title': 'Blog Post 2'}\n",
      "Score 0.6085526761843981\n",
      "Contents The dog jumped over the cat\n",
      "Metadata {'pk': 5, 'title': 'Blog Post 1'}\n"
     ]
    }
   ],
   "source": [
    "response = query_engine.query(\"Dog jumping\")\n",
    "nodes = response.source_nodes\n",
    "\n",
    "for node in response.source_nodes:\n",
    "    print(\"Score\", node.score)\n",
    "    print(\"Contents\", node.node.get_content())\n",
    "    print(\"Metadata\", node.node.metadata)"
   ]
  },
  {
   "cell_type": "code",
   "execution_count": 6,
   "id": "350356fa-4d08-4555-9796-0cc921fbe4d6",
   "metadata": {},
   "outputs": [],
   "source": [
    "query_retriever_engine = engines.get_semantic_query_retriever_engine(top_k=5)"
   ]
  },
  {
   "cell_type": "code",
   "execution_count": 7,
   "id": "fe52fbfa-e5d2-4929-9125-40d64456eb4f",
   "metadata": {},
   "outputs": [],
   "source": [
    "ranked_response = query_retriever_engine.query(\"Dog jumping\")"
   ]
  },
  {
   "cell_type": "code",
   "execution_count": 8,
   "id": "c454472e-acec-4be3-9427-a2db0642e0c3",
   "metadata": {},
   "outputs": [
    {
     "name": "stdout",
     "output_type": "stream",
     "text": [
      "Score 0.6115077187263093\n",
      "Contents The cat jumped over the dog\n",
      "Metadata {'pk': 6, 'title': 'Blog Post 2'}\n",
      "Score 0.6085526761843981\n",
      "Contents The dog jumped over the cat\n",
      "Metadata {'pk': 5, 'title': 'Blog Post 1'}\n",
      "Score 0.32428509963408425\n",
      "Contents the cat is yellow and dog is red\n",
      "Metadata {'pk': 8, 'title': 'Blog Post 4'}\n",
      "Score 0.17228015280604825\n",
      "Contents The weather is very hot\n",
      "Metadata {'pk': 7, 'title': 'Blog Post 3'}\n"
     ]
    }
   ],
   "source": [
    "for node in ranked_response.source_nodes:\n",
    "    print(\"Score\", node.score)\n",
    "    print(\"Contents\", node.node.get_content())\n",
    "    print(\"Metadata\", node.node.metadata)"
   ]
  },
  {
   "cell_type": "code",
   "execution_count": null,
   "id": "88cd3635-68fb-42b5-9f09-f07ee6dc0846",
   "metadata": {},
   "outputs": [],
   "source": []
  }
 ],
 "metadata": {
  "kernelspec": {
   "display_name": "Python 3 (ipykernel)",
   "language": "python",
   "name": "python3"
  },
  "language_info": {
   "codemirror_mode": {
    "name": "ipython",
    "version": 3
   },
   "file_extension": ".py",
   "mimetype": "text/x-python",
   "name": "python",
   "nbconvert_exporter": "python",
   "pygments_lexer": "ipython3",
   "version": "3.12.6"
  }
 },
 "nbformat": 4,
 "nbformat_minor": 5
}
