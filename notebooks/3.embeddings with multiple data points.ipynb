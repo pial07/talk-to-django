{
 "cells": [
  {
   "cell_type": "code",
   "execution_count": 1,
   "id": "6226e7b1-f337-4599-b9a1-7f109bb3d41c",
   "metadata": {},
   "outputs": [],
   "source": [
    "import numpy as np\n",
    "from sentence_transformers import SentenceTransformer"
   ]
  },
  {
   "cell_type": "code",
   "execution_count": 2,
   "id": "1b4b2439-ec13-4109-b460-9b2f9222d430",
   "metadata": {},
   "outputs": [],
   "source": [
    "model = SentenceTransformer(\"all-MiniLM-L6-v2\")"
   ]
  },
  {
   "cell_type": "code",
   "execution_count": 5,
   "id": "127308b4-d6a0-4b5b-8ce7-a2b5a2dad4d7",
   "metadata": {},
   "outputs": [],
   "source": [
    "data=[1,2,3,4,5,6,7]\n",
    "query=5"
   ]
  },
  {
   "cell_type": "code",
   "execution_count": 6,
   "id": "d4896625-77c7-4ec6-b9a0-e97bf6e8aa98",
   "metadata": {},
   "outputs": [
    {
     "data": {
      "text/plain": [
       "4"
      ]
     },
     "execution_count": 6,
     "metadata": {},
     "output_type": "execute_result"
    }
   ],
   "source": [
    "data.index(query)"
   ]
  },
  {
   "cell_type": "code",
   "execution_count": 20,
   "id": "31d2163a-34ba-4cb3-952f-0af485864bad",
   "metadata": {},
   "outputs": [],
   "source": [
    "doc=[\"The dog jumped over the cat\",\n",
    "     'The cat jumped over the dog',\n",
    "     'The weather is very hot',\n",
    "    'the cat is yellow and dog is red']"
   ]
  },
  {
   "cell_type": "code",
   "execution_count": 21,
   "id": "abccd5fe-d584-49a7-846a-e90158d834c2",
   "metadata": {},
   "outputs": [],
   "source": [
    "embedding=model.encode(doc)"
   ]
  },
  {
   "cell_type": "code",
   "execution_count": 22,
   "id": "2490815d-f0f4-4b75-a257-93510638ef0e",
   "metadata": {},
   "outputs": [
    {
     "data": {
      "text/plain": [
       "(4, 384)"
      ]
     },
     "execution_count": 22,
     "metadata": {},
     "output_type": "execute_result"
    }
   ],
   "source": [
    "embedding.shape"
   ]
  },
  {
   "cell_type": "code",
   "execution_count": 23,
   "id": "30e51e2e-88dd-44a9-9602-85a9d6f3048d",
   "metadata": {},
   "outputs": [
    {
     "data": {
      "text/plain": [
       "np.float32(0.054474264)"
      ]
     },
     "execution_count": 23,
     "metadata": {},
     "output_type": "execute_result"
    }
   ],
   "source": [
    "embedding[0][0]"
   ]
  },
  {
   "cell_type": "code",
   "execution_count": 24,
   "id": "ea2a987f-d73a-42a1-94e3-b6437c72cfb3",
   "metadata": {},
   "outputs": [],
   "source": [
    "query='the cat is yellow and dog is purple'"
   ]
  },
  {
   "cell_type": "code",
   "execution_count": 25,
   "id": "7b40bc4a-585a-414c-b2b9-0bf8d8d5ea16",
   "metadata": {},
   "outputs": [
    {
     "data": {
      "text/plain": [
       "tensor([[0.5075],\n",
       "        [0.5133],\n",
       "        [0.0344],\n",
       "        [0.9096]])"
      ]
     },
     "execution_count": 25,
     "metadata": {},
     "output_type": "execute_result"
    }
   ],
   "source": [
    "model.similarity(embedding,model.encode(query))"
   ]
  },
  {
   "cell_type": "code",
   "execution_count": null,
   "id": "3cfa119b-217c-4adf-90ef-ce2b4b229fbb",
   "metadata": {},
   "outputs": [],
   "source": []
  }
 ],
 "metadata": {
  "kernelspec": {
   "display_name": "Python 3 (ipykernel)",
   "language": "python",
   "name": "python3"
  },
  "language_info": {
   "codemirror_mode": {
    "name": "ipython",
    "version": 3
   },
   "file_extension": ".py",
   "mimetype": "text/x-python",
   "name": "python",
   "nbconvert_exporter": "python",
   "pygments_lexer": "ipython3",
   "version": "3.12.6"
  }
 },
 "nbformat": 4,
 "nbformat_minor": 5
}
